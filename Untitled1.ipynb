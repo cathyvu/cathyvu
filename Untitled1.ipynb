{
 "cells": [
  {
   "cell_type": "code",
   "execution_count": 38,
   "metadata": {
    "collapsed": true
   },
   "outputs": [],
   "source": [
    "import matplotlib\n",
    "import matplotlib.pyplot as plt\n",
    "import numpy as np\n",
    "import pandas as pd\n",
    "import os"
   ]
  },
  {
   "cell_type": "code",
   "execution_count": 39,
   "metadata": {
    "collapsed": true
   },
   "outputs": [],
   "source": [
    "%matplotlib inline\n",
    "plt.rcParams['figure.figsize'] = (20, 10)"
   ]
  },
  {
   "cell_type": "code",
   "execution_count": 40,
   "metadata": {
    "collapsed": true
   },
   "outputs": [],
   "source": [
    "saved_style_state = matplotlib.rcParams.copy() #give us a style state to go back to"
   ]
  },
  {
   "cell_type": "code",
   "execution_count": 50,
   "metadata": {
    "collapsed": false,
    "scrolled": true
   },
   "outputs": [
    {
     "name": "stdout",
     "output_type": "stream",
     "text": [
      "loading from the internet\n"
     ]
    },
    {
     "name": "stderr",
     "output_type": "stream",
     "text": [
      "/usr/local/lib/python2.7/dist-packages/ipykernel/__main__.py:8: ParserWarning: Falling back to the 'python' engine because the 'c' engine does not support sep=None with delim_whitespace=False; you can avoid this warning by specifying engine='python'.\n"
     ]
    },
    {
     "name": "stdout",
     "output_type": "stream",
     "text": [
      "done\n"
     ]
    }
   ],
   "source": [
    "if os.path.isfile(\"mcdonalds_menu.csv\"):\n",
    "    filepath = \"mcdonalds_menu.csv\"\n",
    "    print \"loading from file\"\n",
    "else:\n",
    "    filepath = \"https://www.kaggle.com/mcdonalds/nutrition-facts/downloads/nutrition-facts-for-mcdonald-s-menu.zip\"\n",
    "    print \"loading from the internet\"\n",
    "\n",
    "mcdonalds_menu = pd.read_csv(filepath, sep=None)\n",
    "print \"done\""
   ]
  },
  {
   "cell_type": "code",
   "execution_count": 60,
   "metadata": {
    "collapsed": false
   },
   "outputs": [
    {
     "data": {
      "text/html": [
       "<div>\n",
       "<table border=\"1\" class=\"dataframe\">\n",
       "  <thead>\n",
       "    <tr style=\"text-align: right;\">\n",
       "      <th></th>\n",
       "    </tr>\n",
       "    <tr>\n",
       "      <th>&lt;!DOCTYPE html&gt;</th>\n",
       "    </tr>\n",
       "  </thead>\n",
       "  <tbody>\n",
       "    <tr>\n",
       "      <th>&lt;!--[if lt IE 7 ]&gt;&lt;html class=\"ie ie6 lte7 lte8 lte9\"&gt;&lt;![endif]--&gt;</th>\n",
       "    </tr>\n",
       "    <tr>\n",
       "      <th>&lt;!--[if IE 7 ]&gt;&lt;html class=\"ie ie7 lte7 lte8 lte9\"&gt;&lt;![endif]--&gt;</th>\n",
       "    </tr>\n",
       "    <tr>\n",
       "      <th>&lt;!--[if IE 8 ]&gt;&lt;html class=\"ie ie8 lte8 lte9\"&gt;&lt;![endif]--&gt;</th>\n",
       "    </tr>\n",
       "    <tr>\n",
       "      <th>&lt;!--[if IE 9 ]&gt;&lt;html class=\"ie ie9 lte9\"&gt;&lt;![endif]--&gt;</th>\n",
       "    </tr>\n",
       "    <tr>\n",
       "      <th>&lt;!--[if (gt IE 9)|!(IE)]&gt;&lt;!--&gt;&lt;html &gt;&lt;!--&lt;![endif]--&gt;</th>\n",
       "    </tr>\n",
       "    <tr>\n",
       "      <th>&lt;head&gt;</th>\n",
       "    </tr>\n",
       "    <tr>\n",
       "      <th>&lt;link href='//fonts.googleapis.com/css?family=Merriweather:400,700|Open+Sans:300,400italic,700italic,400,700' rel='stylesheet' type='text/css'&gt;</th>\n",
       "    </tr>\n",
       "    <tr>\n",
       "      <th>&lt;link rel=\"stylesheet\" href=\"/content/v/1fb55cec3f8f/shared/css/font-awesome.min.css\"&gt;</th>\n",
       "    </tr>\n",
       "    <tr>\n",
       "      <th>&lt;title&gt;Login | Kaggle&lt;/title&gt;</th>\n",
       "    </tr>\n",
       "    <tr>\n",
       "      <th>&lt;meta http-equiv=\"Content-Type\" content=\"text/html; charset=utf-8\" /&gt;</th>\n",
       "    </tr>\n",
       "    <tr>\n",
       "      <th>&lt;meta name=\"robots\" content=\"index, follow\" /&gt;</th>\n",
       "    </tr>\n",
       "    <tr>\n",
       "      <th>&lt;link href=\"/content/v/d420a040e581/kaggle/favicon.ico\" rel=\"shortcut icon\" type=\"image/x-icon\" /&gt;</th>\n",
       "    </tr>\n",
       "    <tr>\n",
       "      <th>&lt;meta name=\"keywords\" content=\"Kaggle, data science, datasets, public data, crowdsourced analytics, competitions, tutorials, scripts, Python, R, InClass, jobs board\" /&gt;</th>\n",
       "    </tr>\n",
       "    <tr>\n",
       "      <th>&lt;meta name=\"description\" content=\"Kaggle is your home for data science. Learn new skills, build your career, collaborate with other data scientists, and compete in world-class machine learning challenges.\" /&gt;</th>\n",
       "    </tr>\n",
       "    <tr>\n",
       "      <th>&lt;link rel=\"stylesheet\" href=\"/content/v/0efc36570eef/shared/css/base.less\" type=\"text/css\" /&gt;</th>\n",
       "    </tr>\n",
       "    <tr>\n",
       "      <th>&lt;link rel=\"stylesheet\" href=\"/content/v/e1cd6968c0d2/kaggle/css/kaggle-site.less\" type=\"text/css\" /&gt;</th>\n",
       "    </tr>\n",
       "    <tr>\n",
       "      <th>&lt;script type=\"text/javascript\" src=\"/content/v/4e8d906fe022/shared/js/jquery-1.7.2.min.js\"&gt;&lt;/script&gt;</th>\n",
       "    </tr>\n",
       "    <tr>\n",
       "      <th>&lt;script type=\"text/javascript\" src=\"/content/v/7846b5904b60/shared/js/jquery-ui-1.9.2.min.js\"&gt;&lt;/script&gt;</th>\n",
       "    </tr>\n",
       "    <tr>\n",
       "      <th>&lt;script type=\"text/javascript\" src=\"/content/v/a60ecf3c5c7d/shared/js/kaggle.min.js\"&gt;&lt;/script&gt;</th>\n",
       "    </tr>\n",
       "    <tr>\n",
       "      <th>&lt;script type=\"text/javascript\"&gt;</th>\n",
       "    </tr>\n",
       "    <tr>\n",
       "      <th>Kaggle.Current.siteId = 1;</th>\n",
       "    </tr>\n",
       "    <tr>\n",
       "      <th>&lt;/script&gt;</th>\n",
       "    </tr>\n",
       "    <tr>\n",
       "      <th>&lt;!--[if (gte IE 6)&amp;(lte IE 8)]&gt;</th>\n",
       "    </tr>\n",
       "    <tr>\n",
       "      <th>&lt;script type=\"text/javascript\" src=\"/content/v/f1f17fea7cee/shared/js/ie/selectivizr.min.js\"&gt;&lt;/script&gt;</th>\n",
       "    </tr>\n",
       "    <tr>\n",
       "      <th>&lt;![endif]--&gt;</th>\n",
       "    </tr>\n",
       "    <tr>\n",
       "      <th>&lt;link rel=\"apple-touch-icon\" href=\"/content/v/1e4cdaa83f46/kaggle/img/apple-touch-icon.png\" /&gt;</th>\n",
       "    </tr>\n",
       "    <tr>\n",
       "      <th>&lt;!--[if lt IE 9]&gt;</th>\n",
       "    </tr>\n",
       "    <tr>\n",
       "      <th>&lt;script src=\"//html5shim.googlecode.com/svn/trunk/html5.js\"&gt;&lt;/script&gt;</th>\n",
       "    </tr>\n",
       "    <tr>\n",
       "      <th>&lt;![endif]--&gt;</th>\n",
       "    </tr>\n",
       "    <tr>\n",
       "      <th>&lt;script&gt;</th>\n",
       "    </tr>\n",
       "    <tr>\n",
       "      <th>...</th>\n",
       "    </tr>\n",
       "    <tr>\n",
       "      <th>&lt;script type=\"text/javascript\"&gt;</th>\n",
       "    </tr>\n",
       "    <tr>\n",
       "      <th>var _gaq = _gaq || [];</th>\n",
       "    </tr>\n",
       "    <tr>\n",
       "      <th>_gaq.push(['_setAccount', 'UA-12629138-1']);</th>\n",
       "    </tr>\n",
       "    <tr>\n",
       "      <th>_gaq.push(['_trackPageview']);</th>\n",
       "    </tr>\n",
       "    <tr>\n",
       "      <th>_gaq.push(['_trackPageLoadTime']);</th>\n",
       "    </tr>\n",
       "    <tr>\n",
       "      <th>_gaq.push(['_setCustomVar', 1, 'usertype', 'anonymous', 2]);</th>\n",
       "    </tr>\n",
       "    <tr>\n",
       "      <th>(function () {</th>\n",
       "    </tr>\n",
       "    <tr>\n",
       "      <th>var ga = document.createElement('script'); ga.type = 'text/javascript'; ga.async = true;</th>\n",
       "    </tr>\n",
       "    <tr>\n",
       "      <th>ga.src = ('https:' == document.location.protocol ? 'https://ssl' : 'http://www') + '.google-analytics.com/ga.js';</th>\n",
       "    </tr>\n",
       "    <tr>\n",
       "      <th>var s = document.getElementsByTagName('script')[0]; s.parentNode.insertBefore(ga, s);</th>\n",
       "    </tr>\n",
       "    <tr>\n",
       "      <th>})();</th>\n",
       "    </tr>\n",
       "    <tr>\n",
       "      <th>&lt;/script&gt;</th>\n",
       "    </tr>\n",
       "    <tr>\n",
       "      <th>&lt;script type=\"text/javascript\"&gt;</th>\n",
       "    </tr>\n",
       "    <tr>\n",
       "      <th>/**</th>\n",
       "    </tr>\n",
       "    <tr>\n",
       "      <th>* Function that tracks a click on an outbound link in Google Analytics.</th>\n",
       "    </tr>\n",
       "    <tr>\n",
       "      <th>* This function takes a valid URL string as an argument, and uses that URL string</th>\n",
       "    </tr>\n",
       "    <tr>\n",
       "      <th>* as the event label.</th>\n",
       "    </tr>\n",
       "    <tr>\n",
       "      <th>* See: https://support.google.com/analytics/answer/1136920?hl=en</th>\n",
       "    </tr>\n",
       "    <tr>\n",
       "      <th>*/</th>\n",
       "    </tr>\n",
       "    <tr>\n",
       "      <th>var trackOutboundLink = function(url) {</th>\n",
       "    </tr>\n",
       "    <tr>\n",
       "      <th>ga('send', 'event', 'outbound', 'click', url, {'hitCallback':</th>\n",
       "    </tr>\n",
       "    <tr>\n",
       "      <th>function () {</th>\n",
       "    </tr>\n",
       "    <tr>\n",
       "      <th>document.location = url;</th>\n",
       "    </tr>\n",
       "    <tr>\n",
       "      <th>}</th>\n",
       "    </tr>\n",
       "    <tr>\n",
       "      <th>});</th>\n",
       "    </tr>\n",
       "    <tr>\n",
       "      <th>}</th>\n",
       "    </tr>\n",
       "    <tr>\n",
       "      <th>&lt;/script&gt;</th>\n",
       "    </tr>\n",
       "    <tr>\n",
       "      <th>&lt;!-- Cheers, RD00155D487FD4p. --&gt;</th>\n",
       "    </tr>\n",
       "    <tr>\n",
       "      <th>&lt;/body&gt;</th>\n",
       "    </tr>\n",
       "    <tr>\n",
       "      <th>&lt;/html&gt;</th>\n",
       "    </tr>\n",
       "  </tbody>\n",
       "</table>\n",
       "<p>250 rows × 0 columns</p>\n",
       "</div>"
      ],
      "text/plain": [
       "Empty DataFrame\n",
       "Columns: []\n",
       "Index: [<!--[if lt IE 7 ]><html class=\"ie ie6 lte7 lte8 lte9\"><![endif]-->, <!--[if IE 7 ]><html class=\"ie ie7 lte7 lte8 lte9\"><![endif]-->, <!--[if IE 8 ]><html class=\"ie ie8 lte8 lte9\"><![endif]-->, <!--[if IE 9 ]><html class=\"ie ie9 lte9\"><![endif]-->, <!--[if (gt IE 9)|!(IE)]><!--><html ><!--<![endif]-->, <head>,     <link href='//fonts.googleapis.com/css?family=Merriweather:400,700|Open+Sans:300,400italic,700italic,400,700' rel='stylesheet' type='text/css'> ,     <link rel=\"stylesheet\" href=\"/content/v/1fb55cec3f8f/shared/css/font-awesome.min.css\">,     <title>Login | Kaggle</title>,     <meta http-equiv=\"Content-Type\" content=\"text/html; charset=utf-8\" />,     <meta name=\"robots\" content=\"index, follow\" />,     <link href=\"/content/v/d420a040e581/kaggle/favicon.ico\" rel=\"shortcut icon\" type=\"image/x-icon\" />,         <meta name=\"keywords\" content=\"Kaggle, data science, datasets, public data, crowdsourced analytics, competitions, tutorials, scripts, Python, R, InClass, jobs board\" />,             <meta name=\"description\" content=\"Kaggle is your home for data science. Learn new skills, build your career, collaborate with other data scientists, and compete in world-class machine learning challenges.\" />,             <link rel=\"stylesheet\" href=\"/content/v/0efc36570eef/shared/css/base.less\" type=\"text/css\" />,         <link rel=\"stylesheet\" href=\"/content/v/e1cd6968c0d2/kaggle/css/kaggle-site.less\" type=\"text/css\" />,         <script type=\"text/javascript\" src=\"/content/v/4e8d906fe022/shared/js/jquery-1.7.2.min.js\"></script>,             <script type=\"text/javascript\" src=\"/content/v/7846b5904b60/shared/js/jquery-ui-1.9.2.min.js\"></script>,         <script type=\"text/javascript\" src=\"/content/v/a60ecf3c5c7d/shared/js/kaggle.min.js\"></script>,         <script type=\"text/javascript\">,             Kaggle.Current.siteId = 1;,                     </script>,     <!--[if (gte IE 6)&(lte IE 8)]>,         <script type=\"text/javascript\" src=\"/content/v/f1f17fea7cee/shared/js/ie/selectivizr.min.js\"></script>,     <![endif]-->,                     <link rel=\"apple-touch-icon\" href=\"/content/v/1e4cdaa83f46/kaggle/img/apple-touch-icon.png\" />,     <!--[if lt IE 9]>,         <script src=\"//html5shim.googlecode.com/svn/trunk/html5.js\"></script>,     <![endif]-->,     <script>,           window.intercomSettings = {,             app_id: \"koj6gxx6\",           };,     </script>, <script>(function(){var w=window;var ic=w.Intercom;if(typeof ic===\"function\"){ic('reattach_activator');ic('update',intercomSettings);}else{var d=document;var i=function(){i.c(arguments)};i.q=[];i.c=function(args){i.q.push(args)};w.Intercom=i;function l(){var s=d.createElement('script');s.type='text/javascript';s.async=true;s.src='https://widget.intercom.io/widget/koj6gxx6';var x=d.getElementsByTagName('script')[0];x.parentNode.insertBefore(s,x);}if(w.attachEvent){w.attachEvent('onload',l);}else{w.addEventListener('load',l,false);}}})()</script>, </head>, <body class=\"logged-out    kaggle\">,     <div id=\"watermark1\" class=\"\"></div>,     <div id=\"watermark2\" class=\"\"></div>,     <div id=\"wrap\"><!-- needed for sticky footer -->, <div id=\"menu-open-overlay\"></div>, <div id=\"header2\" class=\"\">,     <div id=\"header2-inside\" class=>,         <a id=\"logo\" href=\"/\"><img alt=\"Kaggle\" height=\"86\" src=\"/content/v/9da25a3f126b/kaggle/img/site-logo.png\" width=\"240\" /></a>,             <ul id=\"header-ul\">,                 <li>,   <a href=\"/solutions/competitions\">Host</a>, </li>, <li>,   <a href=\"/competitions\">Competitions</a>, </li>, <li>,   <a href=\"/datasets\">Datasets</a>, </li>, <li>,   <a href=\"/kernels\">Kernels</a>, </li>, <li>,   <a href=\"/jobs\">Jobs</a>, </li>, <li>, <a href=\"\">Community &#9662;</a>, <ul>,   <li><a href='/users'>User Rankings</a></li>,   <li><a href='/forums'>Forum</a></li>,   <li><a href=\"http://blog.kaggle.com\" target=\"_blank\">Blog</a></li>,   <li><a href='/Wiki'>Wiki</a></li>, </ul>, </li><!-- <script>,   $(function(){,     if (!$('body.logged-in').length) {,       $('a.logged-in-only').hide().parent().next().find('a').css('padding-top','10px');,     },   });, </script> -->,             </ul>,         <script>,             jQuery(function () {,                 jQuery('#header-ul li:has(ul) > a').click(function (e) {,                     e.preventDefault();,                     jQuery('#header-ul li').not(jQuery(this).parent()).find('ul').removeClass('open');,                     jQuery(this).parent().find('ul').toggleClass('open');,                     jQuery('#menu-open-overlay').show();,                 });,                 jQuery('#menu-open-overlay').click(function () {,                     jQuery('#header-ul ul').removeClass('open');,                     jQuery('#top-bar-signin').hide();,                     jQuery(this).hide();,                 });,             });,         </script>,         <ul id=\"header-control\">,                 <li id=\"header-signup\"><a href=\"/account/register\"><strong><text>Sign up</text></strong></a></li>,                 <li id=\"header-login\">,                     <a href=\"/account/login?returnUrl=%2Faccount%2Flogin%3FReturnUrl%3D%252fmcdonalds%252fnutrition-facts%252fdownloads%252fnutrition-facts-for-mcdonald-s-menu.zip\" class=\"login-link\">Login</a>,                 </li>,         </ul>,             <div id=\"top-bar-signin\">,                 <div id=\"social-authentication-top\">,     <div id=\"social-authentication-top-head\">, ...]\n",
       "\n",
       "[250 rows x 0 columns]"
      ]
     },
     "execution_count": 60,
     "metadata": {},
     "output_type": "execute_result"
    }
   ],
   "source": []
  },
  {
   "cell_type": "code",
   "execution_count": null,
   "metadata": {
    "collapsed": true
   },
   "outputs": [],
   "source": []
  }
 ],
 "metadata": {
  "kernelspec": {
   "display_name": "Python 2",
   "language": "python",
   "name": "python2"
  },
  "language_info": {
   "codemirror_mode": {
    "name": "ipython",
    "version": 2
   },
   "file_extension": ".py",
   "mimetype": "text/x-python",
   "name": "python",
   "nbconvert_exporter": "python",
   "pygments_lexer": "ipython2",
   "version": "2.7.12"
  }
 },
 "nbformat": 4,
 "nbformat_minor": 2
}
